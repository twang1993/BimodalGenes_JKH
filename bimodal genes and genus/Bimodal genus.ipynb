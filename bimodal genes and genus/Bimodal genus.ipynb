{
 "cells": [
  {
   "cell_type": "code",
   "execution_count": 1,
   "metadata": {},
   "outputs": [],
   "source": [
    "import pandas as pd\n",
    "import numpy as np\n",
    "from scipy.stats import gaussian_kde\n",
    "import os"
   ]
  },
  {
   "cell_type": "code",
   "execution_count": 2,
   "metadata": {},
   "outputs": [
    {
     "name": "stdout",
     "output_type": "stream",
     "text": [
      "{'3_countries_combined_genus_normalization': 7}\n",
      "{'American_genus_normalization': 4}\n",
      "{'Danish_genus_normalization': 7}\n",
      "{'Spanish_genus_normalization': 6}\n"
     ]
    }
   ],
   "source": [
    "del_dir1='genus_normalization_test'\n",
    "del_dir2='Bimodal genus'\n",
    "os.makedirs(del_dir2,exist_ok=True) \n",
    "filelist=os.listdir(del_dir1)\n",
    "for file in filelist:\n",
    "    del_file=del_dir1+'/'+file\n",
    "    dT=pd.read_csv(del_file,index_col=0,delimiter='\\t') \n",
    "    #1.Finding Biomodal Distribution of genes\n",
    "    Bimodal_genusnames=[]\n",
    "    Bimodal_genusvalleys=[]\n",
    "    for i in range(len(dT.columns)):\n",
    "        y=dT.iloc[:,i]\n",
    "        if np.sum(abs(np.log(y[y>0]))>0)>0.3*len(dT): \n",
    "            data = np.log(y[y>0]) \n",
    "            #sns.kdeplot(data,bw_adjust=1) \n",
    "            kde = gaussian_kde(data) \n",
    "            kde_data = kde.evaluate(np.linspace(min(data), max(data), 1000))  \n",
    "            kde_x=np.linspace(min(data), max(data), 1000) \n",
    "            kde_y=kde(kde_x) \n",
    "            dy_dx = np.gradient(kde_y, kde_x) \n",
    "            peakposi_y=[] \n",
    "            valeyposi_y=[] \n",
    "            peakposi_x=[] \n",
    "            valeyposi_x=[] \n",
    "            for j in range(len(dy_dx)):\n",
    "                if dy_dx[j-1]>=0 and dy_dx[j]<=0 :  \n",
    "                    peak_y=kde_y[j-1]\n",
    "                    peakposi_y.append(peak_y)\n",
    "                    peak_x=kde_x[j-1]\n",
    "                    peakposi_x.append(peak_x)\n",
    "                if dy_dx[j-1]<=0 and dy_dx[j]>=0:\n",
    "                    valey_y=kde_y[j]\n",
    "                    valeyposi_y.append(valey_y)\n",
    "                    valey_x=kde_x[j]\n",
    "                    valeyposi_x.append(valey_x)\n",
    "            if len(peakposi_y)>=2: \n",
    "                Ymax1=max(peakposi_y) \n",
    "                BB=[]\n",
    "                for a in peakposi_y: \n",
    "                    BB.append(a)\n",
    "                BB.remove(max(BB))\n",
    "                Ymax2=max(BB) \n",
    "                Xmax1=peakposi_x[peakposi_y.index(Ymax1)] \n",
    "                Xmax2=peakposi_x[peakposi_y.index(Ymax2)] \n",
    "                Yvaley=[] \n",
    "                Xvaley=[] \n",
    "                for b in valeyposi_x:\n",
    "                    if Xmax1<b<=Xmax2 or Xmax2<b<=Xmax1:\n",
    "                        CC=valeyposi_y[valeyposi_x.index(b)]\n",
    "                        DD=b\n",
    "                        Yvaley.append(CC)\n",
    "                        Xvaley.append(DD)\n",
    "                if Ymax2>=0.3*Ymax1 and (Ymax2-min(Yvaley))>=0.2*Ymax2 : \n",
    "                    posi=i\n",
    "                    Bimodal_genusname=dT.columns[i] \n",
    "                    Bimodal_genusnames.append(Bimodal_genusname)\n",
    "                    Bimodal_genusvalley=Xvaley[Yvaley.index(min(Yvaley))]\n",
    "                    Bimodal_genusvalleys.append(Bimodal_genusvalley)\n",
    "    pd.DataFrame({'Bimodal_genus_names':pd.Series(Bimodal_genusnames),'Bimodal_genus_valleys':pd.Series(Bimodal_genusvalleys)}).to_csv(del_dir2+'/'+file+'_BiDgenus',index=0,sep='\\t') #把list转换为DataFrame后，保存为csv文件。\n",
    "    print({file:len(Bimodal_genusnames)})"
   ]
  }
 ],
 "metadata": {
  "kernelspec": {
   "display_name": "Python 3",
   "language": "python",
   "name": "python3"
  },
  "language_info": {
   "codemirror_mode": {
    "name": "ipython",
    "version": 3
   },
   "file_extension": ".py",
   "mimetype": "text/x-python",
   "name": "python",
   "nbconvert_exporter": "python",
   "pygments_lexer": "ipython3",
   "version": "3.11.3"
  }
 },
 "nbformat": 4,
 "nbformat_minor": 2
}
