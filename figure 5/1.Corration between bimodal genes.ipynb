{
 "cells": [
  {
   "cell_type": "code",
   "execution_count": 1,
   "metadata": {},
   "outputs": [],
   "source": [
    "import pandas as pd\n",
    "import numpy as np\n",
    "import os\n",
    "from scipy.stats import spearmanr"
   ]
  },
  {
   "cell_type": "code",
   "execution_count": 2,
   "metadata": {},
   "outputs": [],
   "source": [
    "dir1='bimodal genes'\n",
    "dir2='genes normalization'\n",
    "filelist1=['Spanish', 'Danish', 'American', 'Pig', 'Mouse', 'Marine', 'Human_nose', 'Human_forehead', 'Human_cheek','3_countries_combined']\n",
    "for file in filelist1:\n",
    "    df1=pd.read_csv(dir1+'/'+file+'_BiDgenes',sep='\\t')\n",
    "    df2=pd.read_csv(dir2+'/'+file,index_col=0,sep='\\t')\n",
    "    df2T=df2.T\n",
    "    Bimodal_ko_name=df1.iloc[:,0].tolist()\n",
    "    ko_abundance=[]\n",
    "    corr1 = np.zeros((len(Bimodal_ko_name),len(Bimodal_ko_name))) # Create a matrix of zeros to store correlation coefficients.\n",
    "    for i in range(len(Bimodal_ko_name)):\n",
    "        ko_abundance0=(sum(df2T[Bimodal_ko_name[i]])/len(df2T[Bimodal_ko_name[i]])) # Calculate the average abundance (ko_abundance) for each gene.\n",
    "        ko_abundance.append(ko_abundance0) # Collect the average abundance (ko_abundance) of each gene.\n",
    "        for j in np.arange(i+1,len(Bimodal_ko_name),1):\n",
    "            x1 = df2T[Bimodal_ko_name[i]]\n",
    "            y1 = df2T[Bimodal_ko_name[j]]\n",
    "            corr, p_value = spearmanr(x1, y1) # Calculate the Spearman rank correlation coefficient.\n",
    "            corr1[i,j]=corr\n",
    "    ko_abundance_PD=pd.DataFrame(ko_abundance)\n",
    "    ko_abundance_PD.index=Bimodal_ko_name\n",
    "    ko_abundance_PD.columns=['ko_abundance']\n",
    "    corration=pd.DataFrame(corr1)\n",
    "    corration.index=Bimodal_ko_name\n",
    "    corration.columns=Bimodal_ko_name\n",
    "    ko_abundance_PD.to_csv('ko abundance'+'/'+file+'_abundance',sep='\\t')\n",
    "    corration.to_csv('corration'+'/'+file+'_corration',sep='\\t')"
   ]
  }
 ],
 "metadata": {
  "kernelspec": {
   "display_name": "Python 3",
   "language": "python",
   "name": "python3"
  },
  "language_info": {
   "codemirror_mode": {
    "name": "ipython",
    "version": 3
   },
   "file_extension": ".py",
   "mimetype": "text/x-python",
   "name": "python",
   "nbconvert_exporter": "python",
   "pygments_lexer": "ipython3",
   "version": "3.11.3"
  }
 },
 "nbformat": 4,
 "nbformat_minor": 2
}
