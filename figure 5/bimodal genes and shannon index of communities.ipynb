{
 "cells": [
  {
   "cell_type": "code",
   "execution_count": 2,
   "id": "314d2a92",
   "metadata": {},
   "outputs": [
    {
     "data": {
      "image/png": "[encoded data removed]",
      "text/plain": [
       "<Figure size 200x200 with 1 Axes>"
      ]
     },
     "metadata": {},
     "output_type": "display_data"
    }
   ],
   "source": [
    "import numpy as np\n",
    "import matplotlib.pyplot as plt\n",
    "import pandas as pd\n",
    "from scipy.stats import gaussian_kde\n",
    "dir1='bimodal genes'\n",
    "dir2='genes normalization'\n",
    "filelist1=['Spanish', 'Danish', 'American', 'Pig', 'Mouse', 'Marine', 'Human_nose', 'Human_forehead', 'Human_cheek','3_countries_combined']\n",
    "Quantities_of_Bimodal_genes =[]\n",
    "shannon_index_of_communities =[]\n",
    "for k in range(len(filelist1)):\n",
    "    df1=pd.read_csv(dir1+'/'+filelist1[k]+'_BiDgenes',sep='\\t')\n",
    "    df2=pd.read_csv(dir2+'/'+filelist1[k],sep='\\t',index_col=0)\n",
    "    df2T=df2.T\n",
    "    ko_name = df1.iloc[:,0].to_list()\n",
    "    boundary_valley = []\n",
    "    for i in range(len(ko_name)):\n",
    "            y=df2T[ko_name[i]]\n",
    "            if np.sum(abs(np.log(y[y>0]))>0)>0.3*len(df2T): \n",
    "                data = np.log(y[y>0]) \n",
    "                kde = gaussian_kde(data) \n",
    "                kde_data = kde.evaluate(np.linspace(min(data), max(data), 1000)) \n",
    "                kde_x=np.linspace(min(data), max(data), 1000) \n",
    "                kde_y=kde(kde_x) \n",
    "                dy_dx = np.gradient(kde_y, kde_x) \n",
    "                peakposi_y=[] \n",
    "                valeyposi_y=[] \n",
    "                peakposi_x=[] \n",
    "                valeyposi_x=[] \n",
    "                for j in range(len(dy_dx)):\n",
    "                    if dy_dx[j-1]>=0 and dy_dx[j]<=0 :  \n",
    "                        peak_y=kde_y[j-1]\n",
    "                        peakposi_y.append(peak_y)\n",
    "                        peak_x=kde_x[j-1]\n",
    "                        peakposi_x.append(peak_x)\n",
    "                    if dy_dx[j-1]<=0 and dy_dx[j]>=0:\n",
    "                        valey_y=kde_y[j]\n",
    "                        valeyposi_y.append(valey_y)\n",
    "                        valey_x=kde_x[j]\n",
    "                        valeyposi_x.append(valey_x)\n",
    "                if len(peakposi_y)>=2: \n",
    "                    Ymax1=max(peakposi_y) \n",
    "                    BB=[]\n",
    "                    for a in peakposi_y: \n",
    "                        BB.append(a)\n",
    "                    BB.remove(max(BB))\n",
    "                    Ymax2=max(BB)\n",
    "                    Xmax1=peakposi_x[peakposi_y.index(Ymax1)] \n",
    "                    Xmax2=peakposi_x[peakposi_y.index(Ymax2)] \n",
    "                    Yvaley=[] \n",
    "                    for b in valeyposi_x:\n",
    "                        if Xmax1<b<=Xmax2 or Xmax2<b<=Xmax1:\n",
    "                            CC=valeyposi_y[valeyposi_x.index(b)]\n",
    "                            Yvaley.append(CC)\n",
    "                    x=np.exp(valeyposi_x[(valeyposi_y.index(min(Yvaley)))])\n",
    "                    boundary_valley.append(x)\n",
    "    if len(ko_name)==len(boundary_valley):\n",
    "        maxtrix=np.full((len(df2T),len(ko_name)),2, dtype=object) \n",
    "        for i in range(len(boundary_valley)):\n",
    "            for j in range(len(df2T)):\n",
    "                math1=df2T[ko_name[i]].tolist()[j]\n",
    "                math2=boundary_valley[i]\n",
    "                if math1<math2 :\n",
    "                    maxtrix[j,i]=0\n",
    "                if math1==0:\n",
    "                    maxtrix[j,i]=None\n",
    "                elif math1>=math2:\n",
    "                    maxtrix[j,i]=1\n",
    "    else: print(False)\n",
    "    #Combine the 0s and 1s in the matrix row by row into a binary number，and convert the binary number to a decimal number.\n",
    "    c=[]\n",
    "    for i in range(len(maxtrix)):\n",
    "        a = maxtrix[i,:]\n",
    "        a = [0 if x is None else x for x in a]\n",
    "        a = [str(i) for i in a] # Convert each element to a string\n",
    "        b = int(''.join(a),2) # Convert binary string to decimal integer\n",
    "        c.append(b)\n",
    "    \n",
    "    from collections import Counter\n",
    "    element_counts = Counter(c)\n",
    "    total_elements = len(c)\n",
    "    element_probabilities = {element: count / total_elements for element, count in element_counts.items()}\n",
    "    element = list(element_probabilities.keys())\n",
    "    probabilities = list(element_probabilities.values())\n",
    "    shannon = -np.sum([p * np.log(p) for p in probabilities if p > 0])\n",
    "    x = len(ko_name)\n",
    "    y = shannon\n",
    "    Quantities_of_Bimodal_genes.append(x)\n",
    "    shannon_index_of_communities.append(y)\n",
    "    \n",
    "plt.figure(figsize=(2, 2))\n",
    "plt.rcParams['font.family'] = 'Arial'\n",
    "plt.rcParams['font.size'] = 7\n",
    "plt.rcParams['pdf.fonttype'] = 42\n",
    "plt.scatter(Quantities_of_Bimodal_genes, shannon_index_of_communities, s=40,color='#8A8AFF')  \n",
    "plt.xlabel('Count of bimodal genes')  \n",
    "plt.ylabel('Shannon index of communities')  \n",
    "plt.savefig('fig/Count of bimodal genes & shannon index of communities.pdf',bbox_inches='tight')\n",
    "data_to_save = pd.DataFrame({\n",
    "    'Count of bimodal genes': Quantities_of_Bimodal_genes,\n",
    "    'Shannon index of communities': shannon_index_of_communities\n",
    "}, index=filelist1)\n",
    "data_to_save.to_excel('fig/Count of bimodal genes & shannon index of communities.xlsx', index=True)\n"
   ]
  },
  {
   "cell_type": "code",
   "execution_count": null,
   "id": "472e12f8",
   "metadata": {},
   "outputs": [
    {
     "name": "stdout",
     "output_type": "stream",
     "text": [
      "1.0\n"
     ]
    }
   ],
   "source": [
    "print(np.sum([values for values in element_probabilities.values()]))"
   ]
  }
 ],
 "metadata": {
  "kernelspec": {
   "display_name": "Python 3",
   "language": "python",
   "name": "python3"
  },
  "language_info": {
   "codemirror_mode": {
    "name": "ipython",
    "version": 3
   },
   "file_extension": ".py",
   "mimetype": "text/x-python",
   "name": "python",
   "nbconvert_exporter": "python",
   "pygments_lexer": "ipython3",
   "version": "3.11.3"
  }
 },
 "nbformat": 4,
 "nbformat_minor": 5
}
