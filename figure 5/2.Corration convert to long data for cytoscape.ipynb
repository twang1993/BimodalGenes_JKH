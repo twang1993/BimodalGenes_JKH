{
 "cells": [
  {
   "cell_type": "code",
   "execution_count": 1,
   "metadata": {},
   "outputs": [],
   "source": [
    "import pandas as pd\n",
    "import os \n",
    "dir1='corration'\n",
    "# Check if the directory exists, create it if it doesn't\n",
    "dir2='cytoscape'\n",
    "if not os.path.exists(dir2):\n",
    "    os.makedirs(dir2)\n",
    "\n",
    "filelist=os.listdir(dir1)\n",
    "for file in filelist:\n",
    "    df=pd.read_csv(dir1+'/'+file,sep='\\t')\n",
    "    long_data = df.melt(id_vars=df.columns[0], var_name='target', value_name='Value')\n",
    "\n",
    "    # Rename the first column\n",
    "    long_data = long_data.rename(columns={df.columns[0]: 'source'})\n",
    "\n",
    "    # Filter out rows where the value is 0\n",
    "    long_data = long_data[long_data['Value'] != 0]\n",
    "    pd.DataFrame(long_data).to_csv(dir2+'/'+file+'_long_data.csv',index=False)"
   ]
  }
 ],
 "metadata": {
  "kernelspec": {
   "display_name": "Python 3",
   "language": "python",
   "name": "python3"
  },
  "language_info": {
   "codemirror_mode": {
    "name": "ipython",
    "version": 3
   },
   "file_extension": ".py",
   "mimetype": "text/x-python",
   "name": "python",
   "nbconvert_exporter": "python",
   "pygments_lexer": "ipython3",
   "version": "3.11.3"
  }
 },
 "nbformat": 4,
 "nbformat_minor": 2
}
