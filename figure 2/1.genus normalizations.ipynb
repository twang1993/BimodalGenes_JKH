{
 "cells": [
  {
   "cell_type": "code",
   "execution_count": 1,
   "metadata": {},
   "outputs": [],
   "source": [
    "import pandas as pd\n",
    "import numpy as np\n",
    "from scipy.stats import gaussian_kde\n",
    "import os"
   ]
  },
  {
   "cell_type": "code",
   "execution_count": null,
   "metadata": {},
   "outputs": [],
   "source": [
    "df_chinese=pd.read_csv('genes normalization/Chinese',index_col=0,delimiter='\\t') \n",
    "dT_chinese=df_chinese.T\n",
    "sample_chinese=dT_chinese.index.tolist()\n",
    "df=pd.read_csv('genus normalization/Humangut_all_genus_normalization',index_col=0,delimiter='\\t') \n",
    "dT0=df.T\n",
    "sample_del=[sample for sample in dT0.index.tolist() if sample not in sample_chinese]\n",
    "dT=dT0.loc[sample_del]\n",
    "dT.to_csv('genus normalization/3_countries_combined_genus_normalization',index=True,header=True,sep='\\t')"
   ]
  },
  {
   "cell_type": "code",
   "execution_count": null,
   "metadata": {},
   "outputs": [],
   "source": [
    "df_American=pd.read_csv('genes normalization/American',index_col=0,delimiter='\\t') \n",
    "dT_American=df_American.T\n",
    "sample_American=dT_American.index.tolist()\n",
    "df=pd.read_csv('genus normalization/Humangut_all_genus_normalization',index_col=0,delimiter='\\t') \n",
    "dT0=df.T\n",
    "sample=[sample for sample in dT0.index.tolist() if sample  in sample_American]\n",
    "American=dT0.loc[sample]\n",
    "American.to_csv('genus normalization/American_genus_normalization',index=True,header=True,sep='\\t')"
   ]
  },
  {
   "cell_type": "code",
   "execution_count": null,
   "metadata": {},
   "outputs": [],
   "source": [
    "df_Chinese=pd.read_csv('genes normalization/Chinese',index_col=0,delimiter='\\t') \n",
    "dT_Chinese=df_Chinese.T\n",
    "sample_Chinese=dT_Chinese.index.tolist()\n",
    "df=pd.read_csv('genus normalization/Humangut_all_genus_normalization',index_col=0,delimiter='\\t') \n",
    "dT0=df.T\n",
    "sample=[sample for sample in dT0.index.tolist() if sample  in sample_Chinese]\n",
    "Chinese=dT0.loc[sample]\n",
    "Chinese.to_csv('genus normalization/Chinese_genus_normalization',index=True,header=True,sep='\\t')"
   ]
  },
  {
   "cell_type": "code",
   "execution_count": null,
   "metadata": {},
   "outputs": [],
   "source": [
    "df_Danish=pd.read_csv('genes normalization/Danish',index_col=0,delimiter='\\t') \n",
    "dT_Danish=df_Danish.T\n",
    "sample_Danish=dT_Danish.index.tolist()\n",
    "df=pd.read_csv('genus normalization/Humangut_all_genus_normalization',index_col=0,delimiter='\\t') \n",
    "sample=[sample for sample in dT0.index.tolist() if sample  in sample_Danish]\n",
    "Danish=dT0.loc[sample]\n",
    "Danish.to_csv('genus normalization/Danish_genus_normalization',index=True,header=True,sep='\\t')"
   ]
  },
  {
   "cell_type": "code",
   "execution_count": null,
   "metadata": {},
   "outputs": [],
   "source": [
    "df_Spanish=pd.read_csv('genes normalization/Spanish',index_col=0,delimiter='\\t') \n",
    "dT_Spanish=df_Spanish.T\n",
    "sample_Spanish=dT_Spanish.index.tolist()\n",
    "df=pd.read_csv('genus normalization/Humangut_all_genus_normalization',index_col=0,delimiter='\\t') \n",
    "dT0=df.T\n",
    "sample=[sample for sample in dT0.index.tolist() if sample  in sample_Spanish]\n",
    "Spanish=dT0.loc[sample]\n",
    "Spanish.to_csv('genus normalization/Spanish_genus_normalization',index=True,header=True,sep='\\t')"
   ]
  }
 ],
 "metadata": {
  "kernelspec": {
   "display_name": "Python 3",
   "language": "python",
   "name": "python3"
  },
  "language_info": {
   "codemirror_mode": {
    "name": "ipython",
    "version": 3
   },
   "file_extension": ".py",
   "mimetype": "text/x-python",
   "name": "python",
   "nbconvert_exporter": "python",
   "pygments_lexer": "ipython3",
   "version": "3.11.3"
  }
 },
 "nbformat": 4,
 "nbformat_minor": 2
}
