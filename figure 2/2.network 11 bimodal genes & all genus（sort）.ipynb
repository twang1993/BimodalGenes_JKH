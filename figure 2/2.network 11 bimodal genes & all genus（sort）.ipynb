{
 "cells": [
  {
   "cell_type": "code",
   "execution_count": 7,
   "metadata": {},
   "outputs": [],
   "source": [
    "import pandas as pd\n",
    "import numpy as np\n",
    "import os\n",
    "from scipy.stats import spearmanr\n",
    "import sys"
   ]
  },
  {
   "cell_type": "code",
   "execution_count": 8,
   "metadata": {},
   "outputs": [],
   "source": [
    "dir1='genes normalization/'\n",
    "dir2='bimodal genes/'\n",
    "dir3='genus normalization/'\n",
    "dir4='genus taxonomy/'"
   ]
  },
  {
   "cell_type": "code",
   "execution_count": null,
   "metadata": {},
   "outputs": [],
   "source": [
    "bimodalgenes=pd.read_csv(dir2+'3_countries_combined_BiDgenes',index_col=0,sep='\\t').index.tolist()\n",
    "df2=pd.read_csv(dir1+'3_countries_combined',index_col=0,sep='\\t')\n",
    "df2T=df2.T\n",
    "samples=df2T.index.tolist()\n",
    "df3=pd.read_excel(dir4+'genus_taxonomy_all_sorted.xlsx')\n",
    "genus_list=df3['Genus'].tolist()\n",
    "class_list=df3['class'].tolist()\n",
    "df=pd.read_csv(dir3+'Humangut_all_genus_normalization',index_col=0,sep='\\t')\n",
    "df=df.reindex(genus_list)\n",
    "dfT=df.T\n",
    "samples_etl = dfT.loc[samples]\n",
    "if samples == samples_etl.index.tolist():\n",
    "    corr1 = np.zeros((len(bimodalgenes),len(genus_list))) \n",
    "    for i in range(len(bimodalgenes)):\n",
    "        x1 = df2T[bimodalgenes[i]].tolist()\n",
    "        for j in range(len(genus_list)):\n",
    "            y1 = samples_etl[genus_list[j]].tolist()\n",
    "            # Use np.isclose to determine if it is a constant array\n",
    "            if np.all(np.isclose(x1 ,x1[0])) or np.all(np.isclose(y1 , y1[0])):\n",
    "                corr1[i, j] = np.nan\n",
    "            else:\n",
    "                corr, p_value = spearmanr(x1, y1) \n",
    "                corr1[i,j]=corr\n",
    "else: \n",
    "    print('sample disaffinity')\n",
    "    sys.exit()  \n",
    "corration=pd.DataFrame(corr1)\n",
    "corration.index=bimodalgenes\n",
    "corration.columns=genus_list\n",
    "corration_sorted=corration.sort_index()\n",
    "corration_sorted.to_csv('corration bimodal & all genus(sort)'+'/'+'3countriescombined_corration_bimodal&genus'+'('+'genus'+')',sep='\\t')\n",
    "\n",
    "corration2=pd.DataFrame(corr1)\n",
    "corration2.index=bimodalgenes\n",
    "corration2.columns=class_list\n",
    "corration_sorted2=corration2.sort_index()\n",
    "corration_sorted2.to_csv('corration bimodal & all genus(sort)'+'/'+'3countriescombined_corration_bimodal&genus'+'('+'class'+')',sep='\\t')\n"
   ]
  }
 ],
 "metadata": {
  "kernelspec": {
   "display_name": "Python 3",
   "language": "python",
   "name": "python3"
  },
  "language_info": {
   "codemirror_mode": {
    "name": "ipython",
    "version": 3
   },
   "file_extension": ".py",
   "mimetype": "text/x-python",
   "name": "python",
   "nbconvert_exporter": "python",
   "pygments_lexer": "ipython3",
   "version": "3.11.3"
  }
 },
 "nbformat": 4,
 "nbformat_minor": 2
}
